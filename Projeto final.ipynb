{
 "cells": [
  {
   "cell_type": "markdown",
   "id": "47c174c0",
   "metadata": {},
   "source": [
    "### Imports"
   ]
  },
  {
   "cell_type": "code",
   "execution_count": 1,
   "id": "59ae983f",
   "metadata": {
    "ExecuteTime": {
     "end_time": "2022-03-11T22:15:30.832275Z",
     "start_time": "2022-03-11T22:15:29.734377Z"
    }
   },
   "outputs": [],
   "source": [
    "import pandas as pd\n",
    "import unidecode\n",
    "import urllib.parse\n",
    "from selenium import webdriver\n",
    "from selenium.webdriver.chrome.service import Service\n",
    "from selenium.webdriver.common.keys import Keys\n",
    "import time\n",
    "from dotenv import load_dotenv\n",
    "import os"
   ]
  },
  {
   "cell_type": "markdown",
   "id": "59c00973",
   "metadata": {},
   "source": [
    "### Leitura dos csv"
   ]
  },
  {
   "cell_type": "code",
   "execution_count": 2,
   "id": "bfd5e0fe",
   "metadata": {
    "ExecuteTime": {
     "end_time": "2022-03-11T22:15:32.008498Z",
     "start_time": "2022-03-11T22:15:31.964270Z"
    },
    "scrolled": true
   },
   "outputs": [],
   "source": [
    "extrato = pd.read_csv('../b_extrato_jan.CSV', encoding='latin_1', sep=';', index_col= False, header=1)\n",
    "alunos = pd.read_csv('../Alunos e valor contribuicao.csv', sep=';', )\n",
    "\n",
    "# #csvs = os.listdir('..')\n",
    "# list_csv = []\n",
    "# for i in csvs:\n",
    "#     if i.endswith('.CSV'):\n",
    "#         list_csv.append(i)\n",
    "# list_csv"
   ]
  },
  {
   "cell_type": "code",
   "execution_count": 3,
   "id": "e451bea4",
   "metadata": {
    "ExecuteTime": {
     "end_time": "2022-03-11T22:15:33.312929Z",
     "start_time": "2022-03-11T22:15:33.295975Z"
    }
   },
   "outputs": [],
   "source": [
    "# config pandas vizualização de linhas\n",
    "pd.set_option('display.max_rows', 200)"
   ]
  },
  {
   "cell_type": "markdown",
   "id": "c6e0bb2e",
   "metadata": {},
   "source": [
    "### limpeza e Tratamento"
   ]
  },
  {
   "cell_type": "markdown",
   "id": "6e064978",
   "metadata": {},
   "source": [
    "#### Renomear colunas"
   ]
  },
  {
   "cell_type": "code",
   "execution_count": 4,
   "id": "bbe73d61",
   "metadata": {
    "ExecuteTime": {
     "end_time": "2022-03-11T22:15:35.751632Z",
     "start_time": "2022-03-11T22:15:35.741659Z"
    }
   },
   "outputs": [],
   "source": [
    "extrato = extrato.rename(columns = {'Data' : 'data', 'Lançamento' : 'lancamentos', 'Dcto.' : 'dcto', 'Crédito (R$)' : 'entradas', 'Débito (R$)' : 'saidas'})"
   ]
  },
  {
   "cell_type": "markdown",
   "id": "bde65f6e",
   "metadata": {},
   "source": [
    "#### Drop colunas e linhas"
   ]
  },
  {
   "cell_type": "code",
   "execution_count": 5,
   "id": "a0cb3567",
   "metadata": {
    "ExecuteTime": {
     "end_time": "2022-03-11T22:15:37.901847Z",
     "start_time": "2022-03-11T22:15:37.882863Z"
    }
   },
   "outputs": [],
   "source": [
    "extrato = extrato.drop('Saldo (R$)', axis = 1)\n",
    "stop = int(extrato[extrato['data'] == 'Total'].index[0]-1)\n",
    "extrato = extrato.loc[:stop]"
   ]
  },
  {
   "cell_type": "markdown",
   "id": "9811c8c3",
   "metadata": {},
   "source": [
    "#### Tratamento de Float e string"
   ]
  },
  {
   "cell_type": "code",
   "execution_count": 6,
   "id": "7eb56538",
   "metadata": {
    "ExecuteTime": {
     "end_time": "2022-03-11T22:15:39.196381Z",
     "start_time": "2022-03-11T22:15:39.175437Z"
    },
    "scrolled": true
   },
   "outputs": [
    {
     "name": "stderr",
     "output_type": "stream",
     "text": [
      "C:\\Users\\rober\\AppData\\Local\\Temp/ipykernel_7692/3034765757.py:1: FutureWarning: The default value of regex will change from True to False in a future version. In addition, single character regular expressions will *not* be treated as literal strings when regex=True.\n",
      "  extrato['entradas'] = extrato['entradas'].str.replace('.', '').str.replace(',','.').astype(float)\n",
      "C:\\Users\\rober\\AppData\\Local\\Temp/ipykernel_7692/3034765757.py:2: FutureWarning: The default value of regex will change from True to False in a future version. In addition, single character regular expressions will *not* be treated as literal strings when regex=True.\n",
      "  extrato['saidas'] = extrato['saidas'].str.replace('.', '').str.replace(',','.').astype(float)\n"
     ]
    }
   ],
   "source": [
    "extrato['entradas'] = extrato['entradas'].str.replace('.', '').str.replace(',','.').astype(float)\n",
    "extrato['saidas'] = extrato['saidas'].str.replace('.', '').str.replace(',','.').astype(float)\n",
    "extrato['lancamento test'] = extrato['lancamentos'].str.split(':').str[-1].str.lower().str.strip()"
   ]
  },
  {
   "cell_type": "markdown",
   "id": "969904bd",
   "metadata": {},
   "source": [
    "### Mascaras e filtro"
   ]
  },
  {
   "cell_type": "code",
   "execution_count": 7,
   "id": "da828fff",
   "metadata": {
    "ExecuteTime": {
     "end_time": "2022-03-11T22:15:43.840011Z",
     "start_time": "2022-03-11T22:15:43.828045Z"
    }
   },
   "outputs": [],
   "source": [
    "mask = (extrato['lancamentos'] != 'APLIC.INVEST FACIL') & (extrato['lancamentos'] != 'RESGATE INVEST FACIL')\n",
    "extrato = extrato.loc[mask,:]"
   ]
  },
  {
   "cell_type": "markdown",
   "id": "c2197303",
   "metadata": {},
   "source": [
    "#### Separar debito e credito"
   ]
  },
  {
   "cell_type": "code",
   "execution_count": 8,
   "id": "07e9f5ec",
   "metadata": {
    "ExecuteTime": {
     "end_time": "2022-03-11T22:15:45.250479Z",
     "start_time": "2022-03-11T22:15:45.232525Z"
    }
   },
   "outputs": [],
   "source": [
    "entradas = extrato.dropna(subset=['entradas'])"
   ]
  },
  {
   "cell_type": "code",
   "execution_count": 9,
   "id": "d3791655",
   "metadata": {
    "ExecuteTime": {
     "end_time": "2022-03-11T22:15:45.970720Z",
     "start_time": "2022-03-11T22:15:45.952766Z"
    }
   },
   "outputs": [],
   "source": [
    "saidas = extrato.dropna(subset=['saidas'])"
   ]
  },
  {
   "cell_type": "markdown",
   "id": "1c32b266",
   "metadata": {},
   "source": [
    "### Pd merge e encontrar pessoas que pagaram a contribução"
   ]
  },
  {
   "cell_type": "code",
   "execution_count": 10,
   "id": "aab82e76",
   "metadata": {
    "ExecuteTime": {
     "end_time": "2022-03-11T22:15:48.028640Z",
     "start_time": "2022-03-11T22:15:48.013681Z"
    },
    "scrolled": false
   },
   "outputs": [
    {
     "name": "stderr",
     "output_type": "stream",
     "text": [
      "C:\\Users\\rober\\AppData\\Local\\Temp/ipykernel_7692/349170258.py:2: SettingWithCopyWarning: \n",
      "A value is trying to be set on a copy of a slice from a DataFrame.\n",
      "Try using .loc[row_indexer,col_indexer] = value instead\n",
      "\n",
      "See the caveats in the documentation: https://pandas.pydata.org/pandas-docs/stable/user_guide/indexing.html#returning-a-view-versus-a-copy\n",
      "  entradas['join'] = 0\n"
     ]
    }
   ],
   "source": [
    "#CRIAÇÃO DO MERGE\n",
    "entradas['join'] = 0\n",
    "alunos['join'] = 0\n",
    "alunos_uniao = pd.merge(entradas, alunos, left_on= ['join'], right_on=['join'])"
   ]
  },
  {
   "cell_type": "code",
   "execution_count": 11,
   "id": "17c63d52",
   "metadata": {
    "ExecuteTime": {
     "end_time": "2022-03-11T12:39:23.859676Z",
     "start_time": "2022-03-11T12:39:23.762812Z"
    },
    "scrolled": true
   },
   "outputs": [],
   "source": [
    "maskt = alunos_uniao.apply(lambda x: x['Alunos'].find(x['lancamento test']), axis=1).ge(0)\n",
    "mask_maior = alunos_uniao.loc[maskt & (alunos_uniao['entradas'] > alunos_uniao['contribuicao']) ,'Alunos']\n",
    "mask_igual = alunos_uniao.loc[maskt & (alunos_uniao['entradas'] == alunos_uniao['contribuicao']) ,'Alunos']\n",
    "mask_menor = alunos_uniao.loc[maskt & (alunos_uniao['entradas'] < alunos_uniao['contribuicao']) ,'Alunos']\n",
    "mask_nulo = alunos_uniao.loc[maskt & (alunos_uniao['entradas']  np.isnan(alunos_uniao['contribuicao'])) ,'Alunos']\n",
    "#Criação da coluna de confirmação de pagamento\n",
    "alunos.loc[alunos['Alunos'].isin(mask_maior), 'Pagou?'] = 'MAIOR'\n",
    "alunos.loc[alunos['Alunos'].isin(mask_igual), 'Pagou?'] = 'OK'\n",
    "alunos.loc[alunos['Alunos'].isin(mask_menor), 'Pagou?'] = 'MENOR'\n",
    "alunos.loc[alunos['Alunos'].isin(mask_nulo), 'Pagou?'] = 'nulo'\n",
    "alunos = alunos.drop(columns= ['join'])"
   ]
  },
  {
   "cell_type": "markdown",
   "id": "95161f15",
   "metadata": {},
   "source": [
    "### Fazer um link pro whatsapp com quem não contribuiu\n"
   ]
  },
  {
   "cell_type": "code",
   "execution_count": 12,
   "id": "e43be42e",
   "metadata": {
    "ExecuteTime": {
     "end_time": "2022-03-11T12:39:27.637150Z",
     "start_time": "2022-03-11T12:39:27.626178Z"
    },
    "code_folding": [],
    "scrolled": true
   },
   "outputs": [],
   "source": [
    "#Criação de links do WhatsApp\n",
    "\n",
    "def aluno_whats(linha):\n",
    "    texto_ok = urllib.parse.quote('obrigado')\n",
    "    texto_nulo = urllib.parse.quote('Oii, mande o comprovante')\n",
    "    texto_maior = urllib.parse.quote('vi que...')\n",
    "    texto_menor = urllib.parse.quote('Sobre o que é isso')\n",
    "    telefone = linha['Telefone']\n",
    "    if linha['Pagou?'] == \"OK\":\n",
    "        link = f'https://api.whatsapp.com/send/?phone={telefone}&text={texto_ok}'\n",
    "    elif linha['Pagou?'] == 'MAIOR':\n",
    "        link = f'https://api.whatsapp.com/send/?phone={telefone}&text={texto_maior}'\n",
    "    elif linha['Pagou?'] == 'MENOR':\n",
    "        link = f'https://api.whatsapp.com/send/?phone={telefone}&text={texto_menor}'\n",
    "    else:\n",
    "        link = f'https://api.whatsapp.com/send/?phone={telefone}&text={texto_nulo}'\n",
    "    #np.isnan(linha['Pagou?'])\n",
    "    return link\n",
    "alunos['link_whats'] = alunos.apply(aluno_whats, axis=1)"
   ]
  },
  {
   "cell_type": "markdown",
   "id": "cca6c91f",
   "metadata": {},
   "source": [
    "## anonimizar dados"
   ]
  },
  {
   "cell_type": "markdown",
   "id": "b1729093",
   "metadata": {},
   "source": [
    "## API Google Sheets"
   ]
  },
  {
   "cell_type": "code",
   "execution_count": 13,
   "id": "c4a10be2",
   "metadata": {
    "ExecuteTime": {
     "end_time": "2022-03-11T12:39:29.508632Z",
     "start_time": "2022-03-11T12:39:29.482702Z"
    }
   },
   "outputs": [],
   "source": [
    "#remover nulos e tranformar em lista\n",
    "# tratamento df alunos\n",
    "alunos = alunos.fillna('')\n",
    "planilha_export_controle = alunos.to_numpy().tolist()\n",
    "# tratamento df entradas\n",
    "entradas = entradas.drop(columns = ['join'])\n",
    "entradas = entradas.fillna('')\n",
    "planilha_export_entradas = entradas.to_numpy().tolist()\n",
    "# tratamento df saidas\n",
    "saidas = saidas.fillna('')\n",
    "planilha_export_saidas = saidas.to_numpy().tolist()"
   ]
  },
  {
   "cell_type": "code",
   "execution_count": null,
   "id": "f790024c",
   "metadata": {},
   "outputs": [],
   "source": [
    "load_dotenv('../projeto_final_secrets.env')\n",
    "planilha = os.getenv('linkplanilha')"
   ]
  },
  {
   "cell_type": "code",
   "execution_count": 14,
   "id": "5acf1c24",
   "metadata": {
    "ExecuteTime": {
     "end_time": "2022-03-11T12:39:32.234135Z",
     "start_time": "2022-03-11T12:39:31.643509Z"
    }
   },
   "outputs": [],
   "source": [
    "from __future__ import print_function\n",
    "\n",
    "import os.path\n",
    "\n",
    "from google.auth.transport.requests import Request\n",
    "from google.oauth2.credentials import Credentials\n",
    "from google_auth_oauthlib.flow import InstalledAppFlow\n",
    "from googleapiclient.discovery import build\n",
    "from googleapiclient.errors import HttpError\n",
    "\n",
    "# If modifying these scopes, delete the file token.json.\n",
    "SCOPES = ['https://www.googleapis.com/auth/spreadsheets']\n",
    "\n",
    "# The ID and range of a sample spreadsheet.\n",
    "SAMPLE_SPREADSHEET_ID = planilha\n",
    "SAMPLE_RANGE_NAME = 'TESTE!1:1000'\n",
    "\n",
    "\n",
    "def main():\n",
    "    \"\"\"Shows basic usage of the Sheets API.\n",
    "    Prints values from a sample spreadsheet.\n",
    "    \"\"\"\n",
    "    creds = None\n",
    "    # The file token.json stores the user's access and refresh tokens, and is\n",
    "    # created automatically when the authorization flow completes for the first\n",
    "    # time.\n",
    "    if os.path.exists('token.json'):\n",
    "        creds = Credentials.from_authorized_user_file('token.json', SCOPES)\n",
    "    # If there are no (valid) credentials available, let the user log in.\n",
    "    if not creds or not creds.valid:\n",
    "        if creds and creds.expired and creds.refresh_token:\n",
    "            creds.refresh(Request())\n",
    "        else:\n",
    "            flow = InstalledAppFlow.from_client_secrets_file(\n",
    "                '../client_secret.json', SCOPES)\n",
    "            creds = flow.run_local_server(port=0)\n",
    "        # Save the credentials for the next run\n",
    "        with open('token.json', 'w') as token:\n",
    "            token.write(creds.to_json())\n",
    "\n",
    "    main()"
   ]
  },
  {
   "cell_type": "code",
   "execution_count": 17,
   "id": "8e6ba62a",
   "metadata": {
    "ExecuteTime": {
     "end_time": "2022-03-11T12:03:01.783180Z",
     "start_time": "2022-03-11T12:03:00.952508Z"
    }
   },
   "outputs": [],
   "source": [
    "#controle de pagamentos\n",
    "\n",
    "service = build('sheets', 'v4', credentials=Credentials.from_authorized_user_file('token.json', SCOPES))\n",
    "sheet = service.spreadsheets()\n",
    "result = sheet.values().update(spreadsheetId=SAMPLE_SPREADSHEET_ID,\n",
    "                                    range='TESTE!b3', valueInputOption ='USER_ENTERED',\n",
    "                           body={'values': planilha_export_controle}).execute()"
   ]
  },
  {
   "cell_type": "code",
   "execution_count": 15,
   "id": "df18723f",
   "metadata": {
    "ExecuteTime": {
     "end_time": "2022-03-11T12:40:52.305189Z",
     "start_time": "2022-03-11T12:40:50.338128Z"
    }
   },
   "outputs": [],
   "source": [
    "## entradas\n",
    "\n",
    "service = build('sheets', 'v4', credentials=Credentials.from_authorized_user_file('token.json', SCOPES))\n",
    "sheet = service.spreadsheets()\n",
    "result = sheet.values().update(spreadsheetId=SAMPLE_SPREADSHEET_ID,\n",
    "                                    range='entradas!b73', valueInputOption ='USER_ENTERED',\n",
    "                           body={'values': planilha_export_entradas}).execute()"
   ]
  },
  {
   "cell_type": "code",
   "execution_count": 16,
   "id": "6dfb795f",
   "metadata": {
    "ExecuteTime": {
     "end_time": "2022-03-11T12:40:56.986159Z",
     "start_time": "2022-03-11T12:40:56.129676Z"
    }
   },
   "outputs": [],
   "source": [
    "## saidas\n",
    "\n",
    "service = build('sheets', 'v4', credentials=Credentials.from_authorized_user_file('token.json', SCOPES))\n",
    "sheet = service.spreadsheets()\n",
    "result = sheet.values().update(spreadsheetId=SAMPLE_SPREADSHEET_ID,\n",
    "                                    range='saidas!b24', valueInputOption ='USER_ENTERED',\n",
    "                           body={'values': planilha_export_saidas}).execute()"
   ]
  },
  {
   "cell_type": "markdown",
   "id": "92831184",
   "metadata": {},
   "source": [
    "## WebScraping com Selenium - automatizção de input de dados\n"
   ]
  },
  {
   "cell_type": "code",
   "execution_count": 24,
   "id": "22ad8c40",
   "metadata": {
    "ExecuteTime": {
     "end_time": "2022-03-11T11:37:52.957577Z",
     "start_time": "2022-03-11T11:37:52.947604Z"
    }
   },
   "outputs": [],
   "source": [
    "caminho = os.getenv('caminho')\n",
    "site = os.getenv('site')\n",
    "site2 = os.getenv('site2')\n",
    "login = os.getenv('login')\n",
    "senha = os.getenv('password')"
   ]
  },
  {
   "cell_type": "code",
   "execution_count": 37,
   "id": "aae96e10",
   "metadata": {
    "ExecuteTime": {
     "end_time": "2022-03-11T11:52:57.639857Z",
     "start_time": "2022-03-11T11:52:57.619911Z"
    }
   },
   "outputs": [],
   "source": [
    "def pega_comprovante(df):\n",
    "    \n",
    "    nome = df['Alunos']\n",
    "    if df['Pagou?'] == \"OK\": \n",
    "        \n",
    "        # passo 1\n",
    "        chrome_path = caminho\n",
    "        ser = Service(chrome_path)\n",
    "        driver = webdriver.Chrome(service=ser)\n",
    "        #passo 2\n",
    "        link = site\n",
    "        driver.get(link)\n",
    "        time.sleep(1)\n",
    "        elem = driver.find_element('css selector','body > form > table > tbody > tr:nth-child(1) > td:nth-child(2) > input[type=TEXT]')\n",
    "        elem.send_keys(login)\n",
    "        elem = driver.find_element('css selector', 'body > form > table > tbody > tr:nth-child(2) > td:nth-child(2) > input[type=PASSWORD]')\n",
    "        elem.send_keys(senha)\n",
    "        elem.send_keys(Keys.RETURN)\n",
    "            #prevencao #time.sleep(2) # enter na pagina #driver.switch_to.alert.accept()\n",
    "        #passo 3\n",
    "        time.sleep(1)\n",
    "        elem = driver.find_element('css selector', 'body > form > table > tbody > tr:nth-child(15) > td > input:nth-child(5)')\n",
    "        elem.click()\n",
    "        # passo 4\n",
    "        time.sleep(1)\n",
    "        link2 = site2\n",
    "        driver.get(link2)\n",
    "        elem = driver.find_element('css selector', 'body > table > tbody > tr:nth-child(2) > td > table > tbody > tr > td:nth-child(2) > table > tbody > tr:nth-child(7) > td > a')\n",
    "        elem.click()\n",
    "        # passo 5\n",
    "        driver.switch_to.frame('indice')\n",
    "        elem = driver.find_element('css selector', 'body > div > table > tbody > tr:nth-child(2) > td > a')\n",
    "        elem.click()\n",
    "        # passo 6\n",
    "        driver.switch_to.default_content()\n",
    "        driver.switch_to.frame('principal')\n",
    "        elem = driver.find_element('css selector', 'body > table > tbody > tr:nth-child(11) > td:nth-child(7) > a')\n",
    "        elem.click()  \n",
    "        # passo 7\n",
    "        time.sleep(1)\n",
    "        elem = driver.find_element('css selector', 'body > table > tbody > tr > td > table:nth-child(1) > tbody > tr > td:nth-child(1) > a')\n",
    "        elem.click()\n",
    "        # passo 8\n",
    "        elem = driver.find_element('css selector', 'body > form > table > tbody > tr:nth-child(1) > td > table:nth-child(1) > tbody > tr > td > input:nth-child(1)')\n",
    "        elem.click()\n",
    "        # passo 9 \n",
    "        elem = driver.find_element('css selector', '#popup > input[type=TEXT]:nth-child(3)')\n",
    "        elem.send_keys(f'{nome}')\n",
    "        elem.send_keys(Keys.RETURN)\n",
    "        # passo 10 \n",
    "        time.sleep(1)\n",
    "        elem = driver.find_element('css selector', 'body > form > b:nth-child(8) > table:nth-child(4) > tbody > tr:nth-child(2) > td:nth-child(1) > a')\n",
    "        elem.click()    \n",
    "        #passo 11\n",
    "        time.sleep(1)\n",
    "        elem = driver.find_element('css selector', 'body > form > table > tbody > tr > td:nth-child(1) > table > tbody > tr:nth-child(3) > td:nth-child(1) > input[type=CHECKBOX]')\n",
    "        elem.click()\n",
    "        time.sleep(1)\n",
    "        elem = driver.find_element('css selector', 'body > form > table > tbody > tr > td:nth-child(2) > table > tbody > tr:nth-child(7) > td:nth-child(2)')                                      \n",
    "        elem.click()\n",
    "        #passo 12\n",
    "        time.sleep(2)\n",
    "        # Com imagem\n",
    "        elem = driver.find_element('css selector', 'body > form > table > tbody > tr:nth-child(2) > td > table:nth-child(1) > tbody > tr > td > input:nth-child(7)')\n",
    "        elem.click()\n",
    "        ## Sem imagem\n",
    "        ## elem = driver.find_element('css selector', 'body > form > table > tbody > tr:nth-child(2) > td > table:nth-child(1) > tbody > tr > td > input:nth-child(8)')\n",
    "        ## elem.click()\n",
    "        driver.switch_to.alert.accept() # enter na pagina \n",
    "        time.sleep(1)\n",
    "        # diga x\n",
    "        driver.switch_to.window(driver.window_handles[-1]) # trocar aba/janela de controle\n",
    "        elem = driver.find_element('css selector', 'body > table:nth-child(3)')\n",
    "        elem.screenshot(f'{nome}_fev.png')\n",
    "        time.sleep(1)\n",
    "        driver.close()\n",
    "        time.sleep(1)\n",
    "        driver.switch_to.window(driver.window_handles[0])\n",
    "        driver.close()\n",
    "    else:\n",
    "        pass\n",
    "    "
   ]
  },
  {
   "cell_type": "code",
   "execution_count": 43,
   "id": "7cf58ba7",
   "metadata": {
    "ExecuteTime": {
     "end_time": "2022-03-11T12:02:10.046991Z",
     "start_time": "2022-03-11T12:02:10.031035Z"
    }
   },
   "outputs": [],
   "source": [
    "alunos.apply(pega_comprovante, axis=1)"
   ]
  }
 ],
 "metadata": {
  "kernelspec": {
   "display_name": "Python 3 (ipykernel)",
   "language": "python",
   "name": "python3"
  },
  "language_info": {
   "codemirror_mode": {
    "name": "ipython",
    "version": 3
   },
   "file_extension": ".py",
   "mimetype": "text/x-python",
   "name": "python",
   "nbconvert_exporter": "python",
   "pygments_lexer": "ipython3",
   "version": "3.9.7"
  },
  "varInspector": {
   "cols": {
    "lenName": 16,
    "lenType": 16,
    "lenVar": 40
   },
   "kernels_config": {
    "python": {
     "delete_cmd_postfix": "",
     "delete_cmd_prefix": "del ",
     "library": "var_list.py",
     "varRefreshCmd": "print(var_dic_list())"
    },
    "r": {
     "delete_cmd_postfix": ") ",
     "delete_cmd_prefix": "rm(",
     "library": "var_list.r",
     "varRefreshCmd": "cat(var_dic_list()) "
    }
   },
   "types_to_exclude": [
    "module",
    "function",
    "builtin_function_or_method",
    "instance",
    "_Feature"
   ],
   "window_display": false
  }
 },
 "nbformat": 4,
 "nbformat_minor": 5
}
